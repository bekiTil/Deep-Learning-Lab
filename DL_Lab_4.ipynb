{
  "nbformat": 4,
  "nbformat_minor": 0,
  "metadata": {
    "colab": {
      "provenance": []
    },
    "kernelspec": {
      "name": "python3",
      "display_name": "Python 3"
    },
    "language_info": {
      "name": "python"
    }
  },
  "cells": [
    {
      "cell_type": "code",
      "execution_count": 31,
      "metadata": {
        "id": "blA5esJtdFVP"
      },
      "outputs": [],
      "source": [
        "import torch"
      ]
    },
    {
      "cell_type": "markdown",
      "metadata": {
        "id": "rurwL-W2PoIN"
      },
      "source": [
        "## Creating Layers"
      ]
    },
    {
      "cell_type": "code",
      "execution_count": 32,
      "metadata": {
        "id": "owY9mN1oPAal"
      },
      "outputs": [],
      "source": [
        "class DenseLayer:\n",
        "  # Layer initialization\n",
        "  def __init__(self, n_inputs, n_neurons):\n",
        "    # Initialize weights and biases\n",
        "    self.weights = 0.01 * torch.rand(n_inputs, n_neurons)\n",
        "    self.biases = torch.zeros((1, n_neurons))\n",
        "\n",
        "  # Forward pass\n",
        "  def forward(self, inputs):\n",
        "    # Calculate output values from inputs, weights and biases\n",
        "    self.output = torch.matmul(inputs, self.weights) + self.biases"
      ]
    },
    {
      "cell_type": "markdown",
      "metadata": {
        "id": "Ajjr0QcUP8tA"
      },
      "source": [
        "## Activation Functions"
      ]
    },
    {
      "cell_type": "markdown",
      "metadata": {
        "id": "-CfScOYgaorz"
      },
      "source": [
        "### ReLU"
      ]
    },
    {
      "cell_type": "code",
      "execution_count": 33,
      "metadata": {
        "id": "6owCQofBP_iL"
      },
      "outputs": [],
      "source": [
        "class Activation_ReLU:\n",
        "  # Forward pass\n",
        "  def forward(self, inputs):\n",
        "    self.output = torch.max(torch.tensor(0),inputs)"
      ]
    },
    {
      "cell_type": "markdown",
      "metadata": {
        "id": "_E-apHeQahmI"
      },
      "source": [
        "### Sigmoid"
      ]
    },
    {
      "cell_type": "code",
      "execution_count": 34,
      "metadata": {
        "id": "nlf-0k4OaffJ"
      },
      "outputs": [],
      "source": [
        "class Activation_Sigmoid:\n",
        "  # Forward pass\n",
        "  def forward(self, inputs):\n",
        "    self.output = 1 / (1 + torch.exp(inputs*-1))"
      ]
    },
    {
      "cell_type": "markdown",
      "metadata": {
        "id": "JQrWxiXBax30"
      },
      "source": [
        "### Softmax"
      ]
    },
    {
      "cell_type": "code",
      "execution_count": 35,
      "metadata": {
        "id": "wF2Lf9ESTOOU"
      },
      "outputs": [],
      "source": [
        "class Activation_Softmax:\n",
        "  # Forward pass\n",
        "  def forward(self, inputs):\n",
        "    # Get unnormalized probabilities\n",
        "    exp_values = torch.exp(inputs - torch.max(inputs, axis=1, keepdim=True).values)\n",
        "    # Normalize them for each sample\n",
        "    probabilities = exp_values / torch.sum(exp_values, axis=1, keepdim=True)\n",
        "    self.output = probabilities"
      ]
    },
    {
      "cell_type": "markdown",
      "source": [
        "###Linear Activation"
      ],
      "metadata": {
        "id": "FZobZhWlXjnk"
      }
    },
    {
      "cell_type": "code",
      "source": [
        "class LinearActivation:\n",
        "    def forward(self, x):\n",
        "        self.output = x"
      ],
      "metadata": {
        "id": "ukJ62SSQQar0"
      },
      "execution_count": 36,
      "outputs": []
    },
    {
      "cell_type": "code",
      "source": [
        "X = torch.tensor([0.1, 0.5])\n",
        "y = torch.tensor([0.05, 0.95])\n",
        "print(X)\n",
        "\n",
        "print(y)\n"
      ],
      "metadata": {
        "colab": {
          "base_uri": "https://localhost:8080/"
        },
        "id": "BrPRRf4IXz4F",
        "outputId": "c91a04f9-af6b-41bf-9525-316064b4bdec"
      },
      "execution_count": 37,
      "outputs": [
        {
          "output_type": "stream",
          "name": "stdout",
          "text": [
            "tensor([0.1000, 0.5000])\n",
            "tensor([0.0500, 0.9500])\n"
          ]
        }
      ]
    },
    {
      "cell_type": "markdown",
      "source": [
        "###Use 2 features in the input layer, 1 hidden layer with 4 neurons"
      ],
      "metadata": {
        "id": "KBKybSRkYAxs"
      }
    },
    {
      "cell_type": "code",
      "source": [
        "hidden_layer_1 = DenseLayer(2, 4)"
      ],
      "metadata": {
        "id": "gjTXVC7vYHse"
      },
      "execution_count": 38,
      "outputs": []
    },
    {
      "cell_type": "markdown",
      "source": [
        "###Sigmoid activation in the hidden layer"
      ],
      "metadata": {
        "id": "2Z76kUYTYU3B"
      }
    },
    {
      "cell_type": "code",
      "source": [
        "activation1 = Activation_Sigmoid()"
      ],
      "metadata": {
        "id": "2WYqHGIRYZdO"
      },
      "execution_count": 39,
      "outputs": []
    },
    {
      "cell_type": "markdown",
      "source": [
        "###An output layer with 2 neurons."
      ],
      "metadata": {
        "id": "fyVpiqn2Yguw"
      }
    },
    {
      "cell_type": "code",
      "source": [
        "output_layer = DenseLayer(4, 2)"
      ],
      "metadata": {
        "id": "4AesRTTXYfov"
      },
      "execution_count": 40,
      "outputs": []
    },
    {
      "cell_type": "markdown",
      "source": [
        "###linear activation in the output layer."
      ],
      "metadata": {
        "id": "1ulukgiqYo9S"
      }
    },
    {
      "cell_type": "code",
      "source": [
        "activation2 = LinearActivation()"
      ],
      "metadata": {
        "id": "6Ufyn_xlYyzu"
      },
      "execution_count": 41,
      "outputs": []
    },
    {
      "cell_type": "markdown",
      "source": [
        "###Forward Pass"
      ],
      "metadata": {
        "id": "T7GJCto8Y8BP"
      }
    },
    {
      "cell_type": "code",
      "source": [
        "def forward_pass(X):\n",
        "  hidden_layer_1.forward(X)\n",
        "  activation1.forward(hidden_layer_1.output)\n",
        "  output_layer.forward(activation1.output)\n",
        "  activation2.forward(output_layer.output)\n",
        "  return activation2.output"
      ],
      "metadata": {
        "id": "xrWLupEMY66D"
      },
      "execution_count": 42,
      "outputs": []
    },
    {
      "cell_type": "markdown",
      "source": [
        "###Backward propagation"
      ],
      "metadata": {
        "id": "NZeYA-MaZJzw"
      }
    },
    {
      "cell_type": "code",
      "source": [
        "def back_prop(fp):\n",
        "    lr = torch.tensor(0.01)\n",
        "    back1 = (fp[0][0] - y[0]) * (1 - fp[0][0]) * fp[0][0]\n",
        "    back2 = (fp[0][1] - y[1]) * (1 - fp[0][1]) * fp[0][1]\n",
        "\n",
        "    output_layer.weights[0][0] -= lr * back1 * activation1.output[0][0]\n",
        "    output_layer.weights[0][1] -= lr * back1 * activation1.output[0][1]\n",
        "    output_layer.weights[1][0] -= lr * back2 * activation1.output[0][0]\n",
        "    output_layer.weights[1][1] -= lr * back2 * activation1.output[0][1]\n",
        "    output_layer.biases[0][0] -= lr * back1\n",
        "    output_layer.biases[0][1] -= lr * back2\n",
        "\n",
        "    for i in range(4):\n",
        "        hidden_layer_1.weights[0][i] -= lr * (back1 * output_layer.weights[0][0] * X[0] + back2 * output_layer.weights[0][1] * X[0]) if hidden_layer_1.output[0][i] > 0 else 0\n",
        "        hidden_layer_1.weights[1][i] -= lr * (back1 * output_layer.weights[1][0] * X[1] + back2 * output_layer.weights[1][1] * X[1]) if hidden_layer_1.output[0][i] > 0 else 0\n",
        "        hidden_layer_1.biases[0][i] -= lr * (back1 * output_layer.weights[0][0] + back2 * output_layer.weights[0][1]) if hidden_layer_1.output[0][i] > 0 else 0\n"
      ],
      "metadata": {
        "id": "5b35O6ItZN-_"
      },
      "execution_count": 43,
      "outputs": []
    },
    {
      "cell_type": "markdown",
      "source": [
        "###Error Calculation(MSE)"
      ],
      "metadata": {
        "id": "gz4TytVdZeeK"
      }
    },
    {
      "cell_type": "code",
      "source": [
        "def error_calculation(y_true, y_pred):\n",
        "  return torch.mean(0.5*(y_true - y_pred)**2)"
      ],
      "metadata": {
        "id": "L8Q4sOT6Zmpb"
      },
      "execution_count": 44,
      "outputs": []
    },
    {
      "cell_type": "markdown",
      "source": [
        "###Do the Forward and Backward propagation"
      ],
      "metadata": {
        "id": "GASjqJ9DZyiA"
      }
    },
    {
      "cell_type": "code",
      "source": [
        "loss = 0.0001\n",
        "y_pred = forward_pass(X)\n",
        "err = error_calculation(y, y_pred)\n",
        "print(\"Initial loss:\", err)\n",
        "print(\"Initial prediction:\",y_pred)\n",
        "while err > loss:\n",
        "  back_prop(y_pred)\n",
        "  y_pred = forward_pass(X)\n",
        "  err = error_calculation(y, y_pred)\n",
        "print(\"Final loss:\", err)\n",
        "print(\"Final prediction:\",y_pred)\n",
        "print(\"Target value:\",y)"
      ],
      "metadata": {
        "colab": {
          "base_uri": "https://localhost:8080/"
        },
        "id": "-DvyBc38Zxuf",
        "outputId": "8a7d3bd4-1c8f-4c37-a335-4d70d5c939b0"
      },
      "execution_count": 45,
      "outputs": [
        {
          "output_type": "stream",
          "name": "stdout",
          "text": [
            "Initial loss: tensor(0.2212)\n",
            "Initial prediction: tensor([[0.0090, 0.0102]])\n",
            "Final loss: tensor(9.9984e-05)\n",
            "Final prediction: tensor([[0.0636, 0.9354]])\n",
            "Target value: tensor([0.0500, 0.9500])\n"
          ]
        }
      ]
    }
  ]
}
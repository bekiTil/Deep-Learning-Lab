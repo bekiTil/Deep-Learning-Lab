{
  "cells": [
    {
      "cell_type": "code",
      "execution_count": null,
      "metadata": {
        "id": "blA5esJtdFVP"
      },
      "outputs": [],
      "source": [
        "import torch"
      ]
    },
    {
      "cell_type": "markdown",
      "metadata": {
        "id": "rurwL-W2PoIN"
      },
      "source": [
        "## Creating Layers"
      ]
    },
    {
      "cell_type": "code",
      "execution_count": null,
      "metadata": {
        "id": "owY9mN1oPAal"
      },
      "outputs": [],
      "source": [
        "class DenseLayer:\n",
        "  # Layer initialization\n",
        "  def __init__(self, n_inputs, n_neurons):\n",
        "    # Initialize weights and biases\n",
        "    self.weights = 0.01 * torch.rand(n_inputs, n_neurons)\n",
        "    self.biases = torch.zeros((1, n_neurons))\n",
        "\n",
        "  # Forward pass\n",
        "  def forward(self, inputs):\n",
        "    # Calculate output values from inputs, weights and biases\n",
        "    self.output = torch.matmul(inputs, self.weights) + self.biases"
      ]
    },
    {
      "cell_type": "markdown",
      "metadata": {
        "id": "Ajjr0QcUP8tA"
      },
      "source": [
        "## Activation Functions"
      ]
    },
    {
      "cell_type": "markdown",
      "metadata": {
        "id": "-CfScOYgaorz"
      },
      "source": [
        "### ReLU"
      ]
    },
    {
      "cell_type": "code",
      "execution_count": null,
      "metadata": {
        "id": "6owCQofBP_iL"
      },
      "outputs": [],
      "source": [
        "class Activation_ReLU:\n",
        "  # Forward pass\n",
        "  def forward(self, inputs):\n",
        "    self.output = torch.max(torch.tensor(0),inputs)"
      ]
    },
    {
      "cell_type": "markdown",
      "metadata": {
        "id": "_E-apHeQahmI"
      },
      "source": [
        "### Sigmoid"
      ]
    },
    {
      "cell_type": "code",
      "execution_count": null,
      "metadata": {
        "id": "nlf-0k4OaffJ"
      },
      "outputs": [],
      "source": [
        "class Activation_Sigmoid:\n",
        "  # Forward pass\n",
        "  def forward(self, inputs):\n",
        "    self.output = 1 / (1 + torch.exp(inputs*-1))"
      ]
    },
    {
      "cell_type": "markdown",
      "metadata": {
        "id": "JQrWxiXBax30"
      },
      "source": [
        "### Softmax"
      ]
    },
    {
      "cell_type": "markdown",
      "metadata": {
        "id": "x7usBC_5fprz"
      },
      "source": [
        "## Loss"
      ]
    },
    {
      "cell_type": "code",
      "execution_count": null,
      "metadata": {
        "id": "-xWPtRUefp3j"
      },
      "outputs": [],
      "source": [
        "class Loss_MeanSquareError():\n",
        "    # Forward pass\n",
        "    def forward(self, y_pred, y_true):\n",
        "        # Calculate the mean square error\n",
        "        mse_loss = torch.mean((y_pred - y_true)**2)\n",
        "        return mse_loss"
      ]
    },
    {
      "cell_type": "markdown",
      "metadata": {
        "id": "93Dox6rDcVvN"
      },
      "source": [
        "## Accuracy"
      ]
    },
    {
      "cell_type": "code",
      "execution_count": null,
      "metadata": {
        "id": "p5KqLXjIcYQK"
      },
      "outputs": [],
      "source": [
        "class Accuracy():\n",
        "  def calculate(self, y_pred, y_true):\n",
        "    predictions = torch.argmax(y_pred, axis=1)\n",
        "    if len(y_true.shape) == 2:\n",
        "      y_true = torch.argmax(y_true, axis=1)\n",
        "    accuracy = torch.mean((predictions == y_true).float())\n",
        "    return accuracy"
      ]
    },
    {
      "cell_type": "markdown",
      "metadata": {
        "id": "sMkTvny3m2nL"
      },
      "source": [
        "## Creating model"
      ]
    },
    {
      "cell_type": "markdown",
      "source": [
        "### BackPropagation"
      ],
      "metadata": {
        "id": "L5bjfPNPUhzW"
      }
    },
    {
      "cell_type": "markdown",
      "source": [
        "# $\\frac{\\partial Loss}{\\partial w_n}$"
      ],
      "metadata": {
        "id": "WnRdhpXvVCJB"
      }
    },
    {
      "cell_type": "markdown",
      "source": [
        "#### Model"
      ],
      "metadata": {
        "id": "i4D0Dsk5EXiu"
      }
    },
    {
      "cell_type": "code",
      "source": [
        "X = torch.tensor([0.4, 0.9])\n",
        "y = torch.tensor([0.15, 0.85])"
      ],
      "metadata": {
        "id": "7FZ7Pk0gIK8v"
      },
      "execution_count": null,
      "outputs": []
    },
    {
      "cell_type": "code",
      "source": [
        "hidden_layer_1 = DenseLayer(2, 2)\n",
        "activation1 = Activation_ReLU()\n",
        "output_layer = DenseLayer(2, 2)\n",
        "activation2 = Activation_Sigmoid()"
      ],
      "metadata": {
        "id": "Cb5W0woZRU9_"
      },
      "execution_count": null,
      "outputs": []
    },
    {
      "cell_type": "code",
      "source": [
        "hidden_layer_1.forward(X)\n",
        "activation1.forward(hidden_layer_1.output)\n",
        "output_layer.forward(activation1.output)\n",
        "activation2.forward(output_layer.output)\n",
        "activation2.output"
      ],
      "metadata": {
        "id": "WAoeJRRJRArn",
        "colab": {
          "base_uri": "https://localhost:8080/"
        },
        "outputId": "5457d5a0-13f2-49fa-d291-cdf55f9c8954"
      },
      "execution_count": null,
      "outputs": [
        {
          "output_type": "execute_result",
          "data": {
            "text/plain": [
              "tensor([[0.5000, 0.5000]])"
            ]
          },
          "metadata": {},
          "execution_count": 9
        }
      ]
    },
    {
      "cell_type": "code",
      "source": [
        "def back_prop_two_neuron(fp):\n",
        "  lr = torch.tensor(0.01)\n",
        "  back1 = (fp[0][0]-y[0])*(1-fp[0][0])*fp[0][0]\n",
        "  back2 = (fp[0][1]-y[1])*(1-fp[0][1])*fp[0][1]\n",
        "  output_layer.weights[0][0] -= lr * back1*activation1.output[0][0]\n",
        "  output_layer.weights[0][1] -= lr * back1*activation1.output[0][1]\n",
        "  output_layer.weights[1][0] -= lr * back2*activation1.output[0][0]\n",
        "  output_layer.weights[1][1] -= lr * back2*activation1.output[0][1]\n",
        "  output_layer.biases[0][0] -= lr * back1\n",
        "  output_layer.biases[0][1] -= lr * back2\n",
        "\n",
        "  hidden_layer_1.weights[0][0] -= lr * (back1 * output_layer.weights[0][0] * X[0] + back2 * output_layer.weights[0][1] * X[0] ) if hidden_layer_1.output[0][0] > 0 else 0\n",
        "  hidden_layer_1.weights[0][1] -= lr * (back1 * output_layer.weights[0][0] * X[1] + back2 * output_layer.weights[0][1] * X[1] ) if hidden_layer_1.output[0][0] > 0 else 0\n",
        "  hidden_layer_1.weights[1][0] -= lr * (back1 * output_layer.weights[1][0] * X[0] + back2 * output_layer.weights[1][1] * X[0] ) if hidden_layer_1.output[0][1] > 0 else 0\n",
        "  hidden_layer_1.weights[1][1] -= lr * (back1 * output_layer.weights[1][0] * X[1] + back2 * output_layer.weights[1][1] * X[1] ) if hidden_layer_1.output[0][1] > 0 else 0\n",
        "  hidden_layer_1.biases[0][0] -= lr * (back1 * output_layer.weights[0][0] + back2 * output_layer.weights[0][1] ) if hidden_layer_1.output[0][0] > 0 else 0\n",
        "  hidden_layer_1.biases[0][1] -= lr * (back1 * output_layer.weights[1][0] + back2 * output_layer.weights[1][1] ) if hidden_layer_1.output[0][1] > 0 else 0"
      ],
      "metadata": {
        "id": "LaQ14Al9FVU3"
      },
      "execution_count": 11,
      "outputs": []
    },
    {
      "cell_type": "code",
      "source": [
        "print(\"Output after the backpropagation\")\n",
        "back_prop_two_neuron(activation2.output)\n",
        "print(\"Hidden Layer 1 weight\\n\",hidden_layer_1.weights)\n",
        "print(\"Hidden Layer 1 bias\\n\", hidden_layer_1.biases)\n",
        "print(\"Output Layer weight\\n\", output_layer.weights)\n",
        "print(\"Output Layer bias\\n\",output_layer.biases)\n"
      ],
      "metadata": {
        "id": "cJePM510S1HH",
        "colab": {
          "base_uri": "https://localhost:8080/"
        },
        "outputId": "84cf763b-2a02-43d0-e97f-fdb14667eaad"
      },
      "execution_count": 13,
      "outputs": [
        {
          "output_type": "stream",
          "name": "stdout",
          "text": [
            "Output after the backpropagation\n",
            "Hidden Layer 1 weight\n",
            " tensor([[0.0004, 0.0030],\n",
            "        [0.0048, 0.0095]])\n",
            "Hidden Layer 1 bias\n",
            " tensor([[-8.1157e-07,  6.8982e-06]])\n",
            "Output Layer weight\n",
            " tensor([[0.0084, 0.0079],\n",
            "        [0.0055, 0.0094]])\n",
            "Output Layer bias\n",
            " tensor([[-0.0018,  0.0017]])\n"
          ]
        }
      ]
    }
  ],
  "metadata": {
    "colab": {
      "provenance": []
    },
    "kernelspec": {
      "display_name": "Python 3",
      "name": "python3"
    },
    "language_info": {
      "name": "python"
    }
  },
  "nbformat": 4,
  "nbformat_minor": 0
}